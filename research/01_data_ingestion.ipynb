{
 "cells": [
  {
   "cell_type": "code",
   "execution_count": 1,
   "metadata": {},
   "outputs": [],
   "source": [
    "import os"
   ]
  },
  {
   "cell_type": "code",
   "execution_count": 2,
   "metadata": {},
   "outputs": [
    {
     "data": {
      "text/plain": [
       "'c:\\\\Users\\\\User\\\\Desktop\\\\MLOps Project\\\\End-to-End-ML-Project\\\\research'"
      ]
     },
     "execution_count": 2,
     "metadata": {},
     "output_type": "execute_result"
    }
   ],
   "source": [
    "%pwd"
   ]
  },
  {
   "cell_type": "code",
   "execution_count": 3,
   "metadata": {},
   "outputs": [],
   "source": [
    "os.chdir(\"../\")"
   ]
  },
  {
   "cell_type": "code",
   "execution_count": 4,
   "metadata": {},
   "outputs": [
    {
     "data": {
      "text/plain": [
       "'c:\\\\Users\\\\User\\\\Desktop\\\\MLOps Project\\\\End-to-End-ML-Project'"
      ]
     },
     "execution_count": 4,
     "metadata": {},
     "output_type": "execute_result"
    }
   ],
   "source": [
    "%pwd"
   ]
  },
  {
   "cell_type": "code",
   "execution_count": 5,
   "metadata": {},
   "outputs": [],
   "source": [
    "from dataclasses import dataclass\n",
    "from pathlib import Path\n",
    "\n",
    "@dataclass(frozen=True)\n",
    "class DataIngestionConfig:\n",
    " root_dir : Path\n",
    " source_URL : str\n",
    " local_data_file: Path\n",
    " unzip_dir: Path"
   ]
  },
  {
   "cell_type": "code",
   "execution_count": 6,
   "metadata": {},
   "outputs": [
    {
     "name": "stdout",
     "output_type": "stream",
     "text": [
      " Volume in drive C has no label.\n",
      " Volume Serial Number is 9601-F3BC\n",
      "\n",
      " Directory of c:\\Users\\User\\Desktop\\MLOps Project\\End-to-End-ML-Project\n",
      "\n",
      "01/28/2024  07:18 PM    <DIR>          .\n",
      "01/28/2024  07:18 PM    <DIR>          ..\n",
      "01/28/2024  11:59 AM             3,238 .gitignore\n",
      "01/28/2024  12:55 PM                 0 app.py\n",
      "01/28/2024  12:55 PM    <DIR>          config\n",
      "01/28/2024  07:18 PM    <DIR>          Data\n",
      "01/28/2024  11:59 AM             1,089 LICENSE\n",
      "01/28/2024  04:33 PM    <DIR>          logs\n",
      "01/28/2024  07:32 PM                47 main.py\n",
      "01/28/2024  06:45 PM                 9 params.yaml\n",
      "01/28/2024  06:13 PM               517 README.md\n",
      "01/28/2024  01:19 PM               138 requirements.txt\n",
      "01/28/2024  06:31 PM    <DIR>          research\n",
      "01/28/2024  06:44 PM               379 schema.yaml\n",
      "01/28/2024  07:20 PM               771 setup.py\n",
      "01/28/2024  01:25 PM    <DIR>          src\n",
      "01/28/2024  12:55 PM             1,266 template.py\n",
      "01/28/2024  12:55 PM    <DIR>          templates\n",
      "              10 File(s)          7,454 bytes\n",
      "               8 Dir(s)  46,308,110,336 bytes free\n"
     ]
    }
   ],
   "source": [
    "%ls"
   ]
  },
  {
   "cell_type": "code",
   "execution_count": 7,
   "metadata": {},
   "outputs": [],
   "source": [
    "from src.MLProject.constants import *\n",
    "from src.MLProject.utils.common import read_yaml,create_directories"
   ]
  },
  {
   "cell_type": "code",
   "execution_count": 9,
   "metadata": {},
   "outputs": [],
   "source": [
    "class ConfigurationManager:\n",
    " def __init__(\n",
    "   self,\n",
    "   config_filepath = CONFIG_FILE_PATH,\n",
    "   params_filepath = PARAMS_FILE_PATH,\n",
    "   schema_filepath = SCHEMA_FILE_PATH):\n",
    "  \n",
    "    self.config = read_yaml(config_filepath)\n",
    "    self.params = read_yaml(params_filepath)\n",
    "    self.schema = read_yaml(schema_filepath)\n",
    "\n",
    "    create_directories([self.config.artifacts_root])\n",
    "\n",
    "\n",
    " def get_data_ingestion_config(self) -> DataIngestionConfig:\n",
    "   config = self.config.data_ingestion\n",
    "\n",
    "   create_directories([config.root_dir])\n",
    "\n",
    "   data_ingestion_config = DataIngestionConfig(\n",
    "       root_dir=config.root_dir,\n",
    "       source_URL=config.source_URL,\n",
    "       local_data_file=config.local_data_file,\n",
    "       unzip_dir=config.unzip_dir \n",
    "   )\n",
    "\n",
    "   return data_ingestion_config\n"
   ]
  },
  {
   "cell_type": "code",
   "execution_count": 11,
   "metadata": {},
   "outputs": [],
   "source": [
    "import os\n",
    "import urllib.request as request\n",
    "import zipfile\n",
    "from MLProject import logger\n",
    "from MLProject.utils.common import get_size"
   ]
  },
  {
   "cell_type": "code",
   "execution_count": 12,
   "metadata": {},
   "outputs": [],
   "source": [
    "class DataIngestion:\n",
    "    def __init__(self, config: DataIngestionConfig):\n",
    "        self.config = config\n",
    "\n",
    "    \n",
    "    def download_file(self):\n",
    "        if not os.path.exists(self.config.local_data_file):\n",
    "            filename, headers = request.urlretrieve(\n",
    "                url = self.config.source_URL,\n",
    "                filename = self.config.local_data_file\n",
    "            )\n",
    "            logger.info(f\"{filename} download! with following info: \\n{headers}\")\n",
    "        else:\n",
    "            logger.info(f\"File already exists of size: {get_size(Path(self.config.local_data_file))}\")\n",
    "\n",
    "    \n",
    "    def extract_zip_file(self):\n",
    "        \"\"\"\n",
    "        zip_file_path: str\n",
    "        Extracts the zip file into the data directory\n",
    "        Function returns None\n",
    "        \"\"\"\n",
    "        unzip_path = self.config.unzip_dir\n",
    "        os.makedirs(unzip_path, exist_ok=True)\n",
    "        with zipfile.ZipFile(self.config.local_data_file, 'r') as zip_ref:\n",
    "            zip_ref.extractall(unzip_path)"
   ]
  },
  {
   "cell_type": "code",
   "execution_count": 21,
   "metadata": {},
   "outputs": [
    {
     "name": "stdout",
     "output_type": "stream",
     "text": [
      "[2024-01-28 20:04:16,697: INFO: common: yaml file: config\\config.yaml loaded successfully]\n",
      "[2024-01-28 20:04:16,699: INFO: common: yaml file: params.yaml loaded successfully]\n",
      "[2024-01-28 20:04:16,702: INFO: common: yaml file: schema.yaml loaded successfully]\n",
      "[2024-01-28 20:04:16,704: INFO: common: created directory at: artifacts]\n",
      "[2024-01-28 20:04:16,706: INFO: common: created directory at: artifacts/data_ingestion]\n",
      "[2024-01-28 20:04:18,642: INFO: 1543902713: artifacts/data_ingestion/data.zip download! with following info: \n",
      "Connection: close\n",
      "Content-Length: 100356\n",
      "Cache-Control: max-age=300\n",
      "Content-Security-Policy: default-src 'none'; style-src 'unsafe-inline'; sandbox\n",
      "Content-Type: application/zip\n",
      "ETag: \"c7eb16441bd00dc318bbc922b362147e8ed3565dc5d64a9c26ca21170ebbd49e\"\n",
      "Strict-Transport-Security: max-age=31536000\n",
      "X-Content-Type-Options: nosniff\n",
      "X-Frame-Options: deny\n",
      "X-XSS-Protection: 1; mode=block\n",
      "X-GitHub-Request-Id: 5E88:CEAA3:9F6CA:C2246:65B665EA\n",
      "Accept-Ranges: bytes\n",
      "Date: Sun, 28 Jan 2024 14:34:18 GMT\n",
      "Via: 1.1 varnish\n",
      "X-Served-By: cache-qpg1222-QPG\n",
      "X-Cache: MISS\n",
      "X-Cache-Hits: 0\n",
      "X-Timer: S1706452459.637159,VS0,VE250\n",
      "Vary: Authorization,Accept-Encoding,Origin\n",
      "Access-Control-Allow-Origin: *\n",
      "Cross-Origin-Resource-Policy: cross-origin\n",
      "X-Fastly-Request-ID: 25a027ce1ed858b5cf1f023ac9fec8df51e7a75d\n",
      "Expires: Sun, 28 Jan 2024 14:39:18 GMT\n",
      "Source-Age: 0\n",
      "\n",
      "]\n"
     ]
    }
   ],
   "source": [
    "try:\n",
    "    config = ConfigurationManager()\n",
    "    data_ingestion_config = config.get_data_ingestion_config()\n",
    "    data_ingestion = DataIngestion(config=data_ingestion_config)\n",
    "    data_ingestion.download_file()\n",
    "    data_ingestion.extract_zip_file()\n",
    "except Exception as e:\n",
    "    raise e"
   ]
  },
  {
   "cell_type": "code",
   "execution_count": null,
   "metadata": {},
   "outputs": [],
   "source": []
  }
 ],
 "metadata": {
  "kernelspec": {
   "display_name": "MLOps",
   "language": "python",
   "name": "python3"
  },
  "language_info": {
   "codemirror_mode": {
    "name": "ipython",
    "version": 3
   },
   "file_extension": ".py",
   "mimetype": "text/x-python",
   "name": "python",
   "nbconvert_exporter": "python",
   "pygments_lexer": "ipython3",
   "version": "3.9.18"
  }
 },
 "nbformat": 4,
 "nbformat_minor": 2
}
